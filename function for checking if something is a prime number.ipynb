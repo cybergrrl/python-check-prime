{
 "cells": [
  {
   "cell_type": "code",
   "execution_count": 42,
   "metadata": {},
   "outputs": [],
   "source": [
    "def is_prime(num):\n",
    "    if num % 2 == 0 and num > 2:\n",
    "            return False\n",
    "    for n in range(3, int(math.sqrt(num)) + 1, 2):\n",
    "        '''\n",
    "        range explained:\n",
    "        we look for numbers from 3 because we checked up to 2 previously.\n",
    "        we only look for numbers up to the square root of num because mathematics (any number after that apparently does not matter).\n",
    "        we have turn the result of math.sqrt into an integet because it will give us a float and we need to work with whole numbers. \n",
    "        we then need to add 1 to that integer because the int method will round down to the nearest integer.\n",
    "        finally, we do not need to check for even numbers because we have already done that previously, so we count in steps of 2.\n",
    "        '''\n",
    "        if num % n == 0:\n",
    "            return False\n",
    "    return True"
   ]
  }
 ],
 "metadata": {
  "kernelspec": {
   "display_name": "Python 3",
   "language": "python",
   "name": "python3"
  },
  "language_info": {
   "codemirror_mode": {
    "name": "ipython",
    "version": 3
   },
   "file_extension": ".py",
   "mimetype": "text/x-python",
   "name": "python",
   "nbconvert_exporter": "python",
   "pygments_lexer": "ipython3",
   "version": "3.7.1"
  }
 },
 "nbformat": 4,
 "nbformat_minor": 2
}
